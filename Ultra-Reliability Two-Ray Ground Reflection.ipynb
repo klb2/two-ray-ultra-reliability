{
 "cells": [
  {
   "cell_type": "markdown",
   "id": "de5363d6",
   "metadata": {},
   "source": [
    "# Ultra-Reliability in Two-Ray Ground Reflection Scenarios"
   ]
  },
  {
   "cell_type": "markdown",
   "id": "e3a84d0f",
   "metadata": {},
   "source": [
    "_Author:_ Karl-Ludwig Besser, Technische Universität Braunschweig, Germany\n",
    "\n",
    "This notebook is part of the paper \"A Simple Frequency Diversity Scheme for Ultra-Reliable Communications in Ground Reflection Scenarios\" (Karl-Ludwig Besser, Eduard Jorswieck, and Justin Coon. 2022).  \n",
    "If you use any of this work, please cite the above paper."
   ]
  },
  {
   "cell_type": "markdown",
   "id": "2d320941",
   "metadata": {},
   "source": [
    "> If you are not familiar with Jupyter notebooks: The easiest way to use this notebook interactively, is to hit `Kernel --> Restart & Run All` in the menu. The will execute all cells and enable the interactive elements of the plots.  \n",
    "> Alternatively, you can execute the cells one by one using Shift+Return"
   ]
  },
  {
   "cell_type": "code",
   "execution_count": null,
   "id": "c029da13",
   "metadata": {},
   "outputs": [],
   "source": [
    "import numpy as np\n",
    "%matplotlib widget\n",
    "import matplotlib.pyplot as plt\n",
    "from ipywidgets import interact"
   ]
  },
  {
   "cell_type": "markdown",
   "id": "90fa6435",
   "metadata": {},
   "source": [
    "## Single Frequency"
   ]
  },
  {
   "cell_type": "code",
   "execution_count": null,
   "id": "cfb9df4f",
   "metadata": {},
   "outputs": [],
   "source": [
    "from single_frequency import rec_power, crit_dist, to_decibel"
   ]
  },
  {
   "cell_type": "code",
   "execution_count": null,
   "id": "edaa3647",
   "metadata": {},
   "outputs": [],
   "source": [
    "def plot_rec_power_single_freq(freq, h_tx, h_rx):\n",
    "    if freq > 1e9:\n",
    "        _num_steps = 5000\n",
    "    else:\n",
    "        _num_steps = 2000\n",
    "    distance = np.logspace(0, 3, _num_steps)\n",
    "    crit_distances = crit_dist(freq, h_tx, h_rx)\n",
    "    \n",
    "    fig, axs = plt.subplots()\n",
    "    _lim_power = [-130, -40]\n",
    "    axs.set_ylim(_lim_power)\n",
    "    axs.set_xlim([min(distance), max(distance)])\n",
    "    plot_power = axs.semilogx(distance, np.ones_like(distance))[0]\n",
    "    plot_dist = axs.vlines(crit_distances, _lim_power[0], _lim_power[1],\n",
    "                           colors='k', linestyles='dashed', alpha=.2)\n",
    "    \n",
    "    def update_plot(rho=1.):\n",
    "        G_ref = rho**2\n",
    "        power_rx = rec_power(distance, freq, h_tx, h_rx, G_ref=G_ref)\n",
    "        power_rx_db = to_decibel(power_rx)\n",
    "        plot_power.set_ydata(power_rx_db)\n",
    "    interact(update_plot, rho=(0, 1, .001))"
   ]
  },
  {
   "cell_type": "code",
   "execution_count": null,
   "id": "50d4b613",
   "metadata": {},
   "outputs": [],
   "source": [
    "plot_rec_power_single_freq(freq=2.4e9, h_tx=10, h_rx=1.5)"
   ]
  },
  {
   "cell_type": "markdown",
   "id": "6db124bc",
   "metadata": {},
   "source": [
    "## Two Frequencies"
   ]
  },
  {
   "cell_type": "code",
   "execution_count": null,
   "id": "532eb9fa",
   "metadata": {},
   "outputs": [],
   "source": [
    "from two_frequencies import sum_power_lower_envelope"
   ]
  },
  {
   "cell_type": "code",
   "execution_count": null,
   "id": "9c377fe5",
   "metadata": {},
   "outputs": [],
   "source": [
    "def plot_sum_power_two_freq(freq, h_tx, h_rx):\n",
    "    if freq > 1e9:\n",
    "        _num_steps = 5000\n",
    "    else:\n",
    "        _num_steps = 2000\n",
    "    distance = np.logspace(0, 3, _num_steps)\n",
    "    \n",
    "    fig, axs = plt.subplots()\n",
    "    _lim_power = [-130, -40]\n",
    "    axs.set_ylim(_lim_power)\n",
    "    axs.set_xlim([min(distance), max(distance)])\n",
    "    plot_power = axs.semilogx(distance, np.ones_like(distance))[0]\n",
    "    plot_power_envelope = axs.semilogx(distance, np.ones_like(distance))[0]\n",
    "    \n",
    "    def update_plot(df=8):\n",
    "        df = 10**df\n",
    "        print(f\"Delta Freq: {df:E} Hz\")\n",
    "        power_rx1 = rec_power(distance, freq, h_tx, h_rx)\n",
    "        power_rx2 = rec_power(distance, freq+df, h_tx, h_rx)\n",
    "        power_rx = 0.5*(power_rx1+power_rx2)\n",
    "        power_rx_db = to_decibel(power_rx)\n",
    "        \n",
    "        power_env = sum_power_lower_envelope(distance, df, freq, h_tx, h_rx)\n",
    "        power_env_db = to_decibel(power_env)\n",
    "        \n",
    "        plot_power.set_ydata(power_rx_db)\n",
    "        plot_power_envelope.set_ydata(power_env_db)\n",
    "    interact(update_plot, df=(5, 9, .01))"
   ]
  },
  {
   "cell_type": "code",
   "execution_count": null,
   "id": "df28d5ae",
   "metadata": {},
   "outputs": [],
   "source": [
    "plot_sum_power_two_freq(freq=2.4e9, h_tx=10, h_rx=1.5)"
   ]
  },
  {
   "cell_type": "markdown",
   "id": "31d3fa7d",
   "metadata": {},
   "source": [
    "### Optimal Frequency Spacing"
   ]
  },
  {
   "cell_type": "code",
   "execution_count": null,
   "id": "c97235f0",
   "metadata": {},
   "outputs": [],
   "source": [
    "from optimal_frequency_distance import find_optimal_delta_freq\n",
    "from single_frequency import min_rec_power_single_freq"
   ]
  },
  {
   "cell_type": "code",
   "execution_count": null,
   "id": "c6b347b4",
   "metadata": {},
   "outputs": [],
   "source": [
    "def plot_optimized_rec_power(d_min, d_max, freq, h_tx, h_rx):\n",
    "    if freq > 1e9:\n",
    "        _num_steps = 4000\n",
    "    else:\n",
    "        _num_steps = 2000\n",
    "        \n",
    "    distance = np.logspace(np.log10(d_min)-.1, np.log10(d_max)+.1, _num_steps)\n",
    "    \n",
    "    power_rx_single = rec_power(distance, freq, h_tx, h_rx)\n",
    "    power_rx_single_db = to_decibel(power_rx_single)\n",
    "    min_power_single = min_rec_power_single_freq(d_min, d_max, freq, h_tx, h_rx)\n",
    "    min_power_single_db = to_decibel(min_power_single)\n",
    "    print(f\"Minimum power single frequency: {min_power_single_db:.2f} dB\")\n",
    "    \n",
    "    opt_df = find_optimal_delta_freq(d_min, d_max, freq, h_tx, h_rx)\n",
    "    print(f\"Optimal frequency spacing: {opt_df:E}\")\n",
    "    power_rx_opt = sum_power_lower_envelope(distance, opt_df, freq, h_tx, h_rx)\n",
    "    power_rx_opt_db = to_decibel(power_rx_opt)\n",
    "    min_power_two = sum_power_lower_envelope(d_max, opt_df, freq, h_tx, h_rx)\n",
    "    min_power_two_db = to_decibel(min_power_two)\n",
    "    print(f\"Minimum power two frequencies: {min_power_two_db:.2f} dB\")\n",
    "    \n",
    "    power_rx_opt_exact = .5*(power_rx_single + rec_power(distance, freq+opt_df, h_tx, h_rx))\n",
    "    power_rx_opt_exact_db = to_decibel(power_rx_opt_exact)\n",
    "\n",
    "    fig, axs = plt.subplots()\n",
    "    _lim_power = [-130, -40]\n",
    "    axs.set_ylim(_lim_power)\n",
    "    axs.set_xlim([min(distance), max(distance)])\n",
    "    \n",
    "    axs.vlines(d_min, *_lim_power, ls=\"--\", color=\"k\", alpha=.75)\n",
    "    axs.vlines(d_max, *_lim_power, ls=\"--\", color=\"k\", alpha=.75)\n",
    "    \n",
    "    axs.semilogx(distance, power_rx_single_db, '-b', label=\"Single Frequency\")\n",
    "    axs.semilogx(distance, power_rx_opt_db, '-r', label=\"Lower Bound\")\n",
    "    axs.semilogx(distance, power_rx_opt_exact_db, '-', c='orange', alpha=.8, label=\"Two Freq. - Optimal$\\Delta f$\")\n",
    "    \n",
    "    axs.hlines(min_power_single_db, min(distance), max(distance), ls='--', color='b', label=\"Min Power Single\")\n",
    "    axs.hlines(min_power_two_db, min(distance), max(distance), ls='--', color='r', label=\"Min Power Two Freq.\")\n",
    "    \n",
    "    axs.legend()\n",
    "    axs.set_xlabel(\"Distance $d$ [m]\")\n",
    "    axs.set_ylabel(\"Receive Power $P_r$ [dB]\")"
   ]
  },
  {
   "cell_type": "code",
   "execution_count": null,
   "id": "ef070490",
   "metadata": {},
   "outputs": [],
   "source": [
    "plot_optimized_rec_power(10, 100, 2.4e9, 10, 1.5)"
   ]
  },
  {
   "cell_type": "markdown",
   "id": "36c3e13a",
   "metadata": {},
   "source": [
    "## Rate Analysis"
   ]
  },
  {
   "cell_type": "code",
   "execution_count": null,
   "id": "9c27009e",
   "metadata": {},
   "outputs": [],
   "source": [
    "from rate_comparison import rate_single_freq, rate_two_freq, rate_two_freq_lower"
   ]
  },
  {
   "cell_type": "code",
   "execution_count": null,
   "id": "65b464c2",
   "metadata": {},
   "outputs": [],
   "source": [
    "def plot_rate(d_min, d_max, freq, h_tx, h_rx, bw):\n",
    "    if freq > 1e9:\n",
    "        _num_steps = 4000\n",
    "    else:\n",
    "        _num_steps = 2000\n",
    "\n",
    "    distance = np.logspace(np.log10(d_min)-.1, np.log10(d_max)+.1, 3000)\n",
    "    _min_power_single = min_rec_power_single_freq(d_min, d_max, freq, h_tx, h_rx)\n",
    "\n",
    "    df = find_optimal_delta_freq(d_min, d_max, freq, h_tx, h_rx)\n",
    "    print(f\"Frequency spacing: {df:E}\")\n",
    "\n",
    "    rate_single = rate_single_freq(distance, freq, h_tx, h_rx, bw=bw)\n",
    "    rate_two = rate_two_freq(distance, freq, df, h_tx, h_rx, bw=bw)\n",
    "    rate_two_lower =  rate_two_freq_lower(distance, freq, df, h_tx, h_rx, d_max=d_max, bw=bw)\n",
    "    \n",
    "    fig, axs = plt.subplots()\n",
    "    _lim_rate = [1e3, 1e7]\n",
    "    axs.set_ylim(_lim_rate)\n",
    "    axs.set_xlim([min(distance), max(distance)])\n",
    "    \n",
    "    axs.vlines(d_min, *_lim_rate, ls=\"--\", color=\"k\", alpha=.75)\n",
    "    axs.vlines(d_max, *_lim_rate, ls=\"--\", color=\"k\", alpha=.75)\n",
    "    \n",
    "    axs.loglog(distance, rate_single, '-b', label=\"Single Frequency\")\n",
    "    axs.loglog(distance, rate_two, '-r', label=\"Two Freq. - Optimal $\\Delta f$\")\n",
    "    axs.loglog(distance, rate_two_lower, '--r', alpha=.5, label=\"Two Freq. Lower Bound\")\n",
    "    axs.set_xlabel(\"Distance $d$ [m]\")\n",
    "    axs.set_ylabel(\"Achievable Rate [bit/s/Hz]\")\n",
    "    axs.legend()"
   ]
  },
  {
   "cell_type": "code",
   "execution_count": null,
   "id": "aaba9436",
   "metadata": {},
   "outputs": [],
   "source": [
    "plot_rate(10, 100, 2.4e9, 10, 1.5, 100e3)"
   ]
  },
  {
   "cell_type": "markdown",
   "id": "5369000a",
   "metadata": {},
   "source": [
    "## Outage Probability and UAV Example"
   ]
  },
  {
   "cell_type": "markdown",
   "id": "62504f02",
   "metadata": {},
   "source": [
    "For running the outage probability examples and the UAV example, please use the provided Python scripts directly. The correct command can also be found in the `run.sh` file."
   ]
  }
 ],
 "metadata": {
  "kernelspec": {
   "display_name": "Python 3 (ipykernel)",
   "language": "python",
   "name": "python3"
  },
  "language_info": {
   "codemirror_mode": {
    "name": "ipython",
    "version": 3
   },
   "file_extension": ".py",
   "mimetype": "text/x-python",
   "name": "python",
   "nbconvert_exporter": "python",
   "pygments_lexer": "ipython3",
   "version": "3.10.6"
  }
 },
 "nbformat": 4,
 "nbformat_minor": 5
}
